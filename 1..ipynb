{
 "cells": [
  {
   "cell_type": "code",
   "execution_count": null,
   "metadata": {},
   "outputs": [],
   "source": [
    "#1. Draw a circle, In that half circle has to have Green color and another half required to fill with orange color using Turtle Package.\n",
    "import turtle \n",
    "turtle.color(\"green\")\n",
    "turtle.begin_fill()\n",
    "turtle.circle(130,180)\n",
    "turtle.end_fill()\n",
    "turtle.hideturtle()\n",
    "turtle.color(\"orange\")\n",
    "turtle.begin_fill()\n",
    "turtle.circle(130,180)\n",
    "turtle.end_fill()\n",
    "turtle.hideturtle()\n"
   ]
  }
 ],
 "metadata": {
  "kernelspec": {
   "display_name": "Python 3",
   "language": "python",
   "name": "python3"
  },
  "language_info": {
   "codemirror_mode": {
    "name": "ipython",
    "version": 3
   },
   "file_extension": ".py",
   "mimetype": "text/x-python",
   "name": "python",
   "nbconvert_exporter": "python",
   "pygments_lexer": "ipython3",
   "version": "3.7.3"
  }
 },
 "nbformat": 4,
 "nbformat_minor": 2
}
