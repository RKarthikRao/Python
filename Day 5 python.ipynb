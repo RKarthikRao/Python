{
 "cells": [
  {
   "cell_type": "code",
   "execution_count": 33,
   "metadata": {},
   "outputs": [
    {
     "name": "stdout",
     "output_type": "stream",
     "text": [
      "Addition - Value of c is  13\n",
      "Subtraction - Value of c is  -9\n",
      "Multiplication- Value of c is  22\n",
      "Division - Value of c is  0.18181818181818182\n",
      "Modulus- Value of c is  2\n"
     ]
    }
   ],
   "source": [
    "a = 2\n",
    "b = 11\n",
    "c = 0\n",
    "\n",
    "c = a + b\n",
    "print (\"Addition - Value of c is \", c)\n",
    "\n",
    "c = a - b\n",
    "print (\"Subtraction - Value of c is \", c)\n",
    "\n",
    "c = a * b\n",
    "print (\"Multiplication- Value of c is \", c) \n",
    "\n",
    "c = a / b\n",
    "print (\"Division - Value of c is \", c) \n",
    "\n",
    "c = a % b\n",
    "print (\"Modulus- Value of c is \", c)"
   ]
  },
  {
   "cell_type": "code",
   "execution_count": 35,
   "metadata": {},
   "outputs": [
    {
     "name": "stdout",
     "output_type": "stream",
     "text": [
      "enter a number22\n",
      "even\n"
     ]
    }
   ],
   "source": [
    "n = int (input ('enter a number'))\n",
    "if n%2 == 0 : \n",
    "    print(\"even\")\n",
    "else :\n",
    "    print(\"odd\")\n",
    "    "
   ]
  },
  {
   "cell_type": "code",
   "execution_count": 37,
   "metadata": {},
   "outputs": [
    {
     "name": "stdout",
     "output_type": "stream",
     "text": [
      "enter a number15\n",
      "Yes\n"
     ]
    }
   ],
   "source": [
    "n = int (input ('enter a number'))\n",
    "if n%3 == 0 and n%5 == 0:\n",
    "    print(\"Yes\")\n",
    "else  :\n",
    "    print(\"No\")\n",
    "    \n",
    "    "
   ]
  },
  {
   "cell_type": "code",
   "execution_count": 40,
   "metadata": {},
   "outputs": [
    {
     "name": "stdout",
     "output_type": "stream",
     "text": [
      "enter a number55\n",
      "positive\n"
     ]
    }
   ],
   "source": [
    "n = int (input ('enter a number'))\n",
    "if n == 0:\n",
    "    print(\"zero\")\n",
    "elif n > 0:\n",
    "    print(\"positive\")\n",
    "elif n > 0:\n",
    "    print(\"negitive\")\n",
    "    "
   ]
  }
 ],
 "metadata": {
  "kernelspec": {
   "display_name": "Python 3",
   "language": "python",
   "name": "python3"
  },
  "language_info": {
   "codemirror_mode": {
    "name": "ipython",
    "version": 3
   },
   "file_extension": ".py",
   "mimetype": "text/x-python",
   "name": "python",
   "nbconvert_exporter": "python",
   "pygments_lexer": "ipython3",
   "version": "3.7.3"
  }
 },
 "nbformat": 4,
 "nbformat_minor": 2
}
