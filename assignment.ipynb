{
 "cells": [
  {
   "cell_type": "code",
   "execution_count": 5,
   "metadata": {},
   "outputs": [
    {
     "data": {
      "text/plain": [
       "14569"
      ]
     },
     "execution_count": 5,
     "metadata": {},
     "output_type": "execute_result"
    }
   ],
   "source": [
    "# 1)[1,4,5,6,9] - 14569\n",
    "def convert(s):\n",
    "    x=0\n",
    "    for i in range(len(s)):\n",
    "        x=x*10+s[i]\n",
    "    return x\n",
    "s=[1,4,5,6,9]\n",
    "convert(s)\n"
   ]
  },
  {
   "cell_type": "code",
   "execution_count": 6,
   "metadata": {},
   "outputs": [
    {
     "data": {
      "text/plain": [
       "46"
      ]
     },
     "execution_count": 6,
     "metadata": {},
     "output_type": "execute_result"
    }
   ],
   "source": [
    "\n",
    "# 2) [1,4,5,6,9]  - 46 (Consider only even numbers from list)\n",
    "def even(s):\n",
    "    x=0\n",
    "    for i in range(len(s)):\n",
    "        if s[i]%2==0:\n",
    "            x=x*10+s[i]\n",
    "    return x\n",
    "s=[1,4,5,6,9]\n",
    "even(s)"
   ]
  },
  {
   "cell_type": "code",
   "execution_count": 7,
   "metadata": {},
   "outputs": [
    {
     "data": {
      "text/plain": [
       "[1, 4, 3, 16, 5]"
      ]
     },
     "execution_count": 7,
     "metadata": {},
     "output_type": "execute_result"
    }
   ],
   "source": [
    "# 3. [1,2,3,4,5] - [1,4,3,16,5] (Consider only even number and square of it)\n",
    "def square(s):\n",
    "    for i in range (len(s)):\n",
    "        if s[i]%2==0:\n",
    "            s[i]=s[i]**2\n",
    "    return s\n",
    "s=[1,2,3,4,5]\n",
    "square(s)"
   ]
  },
  {
   "cell_type": "code",
   "execution_count": 8,
   "metadata": {},
   "outputs": [
    {
     "ename": "SyntaxError",
     "evalue": "unexpected EOF while parsing (<ipython-input-8-6b0a1db9848a>, line 11)",
     "output_type": "error",
     "traceback": [
      "\u001b[1;36m  File \u001b[1;32m\"<ipython-input-8-6b0a1db9848a>\"\u001b[1;36m, line \u001b[1;32m11\u001b[0m\n\u001b[1;33m    add(s\u001b[0m\n\u001b[1;37m         ^\u001b[0m\n\u001b[1;31mSyntaxError\u001b[0m\u001b[1;31m:\u001b[0m unexpected EOF while parsing\n"
     ]
    }
   ],
   "source": [
    "# 4. [15,19,12,16,4] - [15,34,31,28,4] (Need to add previous number to current number)\n",
    "def add(s):\n",
    "    k=[]\n",
    "    for i in range (len(s)):  \n",
    "        if i==0 or i==len(s)-1:\n",
    "                k.append(s[i])\n",
    "        else:\n",
    "            k.append(s[i]+s[i-1])\n",
    "    return k \n",
    "s=[15,19,12,16,4]\n",
    "add(s"
   ]
  },
  {
   "cell_type": "code",
   "execution_count": null,
   "metadata": {},
   "outputs": [],
   "source": []
  }
 ],
 "metadata": {
  "kernelspec": {
   "display_name": "Python 3",
   "language": "python",
   "name": "python3"
  },
  "language_info": {
   "codemirror_mode": {
    "name": "ipython",
    "version": 3
   },
   "file_extension": ".py",
   "mimetype": "text/x-python",
   "name": "python",
   "nbconvert_exporter": "python",
   "pygments_lexer": "ipython3",
   "version": "3.7.3"
  }
 },
 "nbformat": 4,
 "nbformat_minor": 2
}
