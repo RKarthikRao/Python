{
 "cells": [
  {
   "cell_type": "markdown",
   "metadata": {},
   "source": [
    "### Regular Expression\n",
    "[a-z]\n",
    "[A-Z]\n",
    "[a-z]{2}$\n",
    "[0-9]{2}$\n",
    "[a-zA-Z]{8}$\n",
    "[a-zA-Z0-9]{8}$'"
   ]
  },
  {
   "cell_type": "code",
   "execution_count": 5,
   "metadata": {},
   "outputs": [
    {
     "name": "stdout",
     "output_type": "stream",
     "text": [
      "True\n",
      "False\n"
     ]
    }
   ],
   "source": [
    "import re\n",
    "def twoDigitMatching(n):\n",
    "    pattern = '^[0-9]{2}$'\n",
    "    n = str(n)\n",
    "    if re.match(pattern,n):\n",
    "        return True\n",
    "    return False\n",
    "print(twoDigitMatching(12))\n",
    "print(twoDigitMatching(123))"
   ]
  },
  {
   "cell_type": "code",
   "execution_count": 7,
   "metadata": {},
   "outputs": [
    {
     "name": "stdout",
     "output_type": "stream",
     "text": [
      "True\n",
      "False\n"
     ]
    }
   ],
   "source": [
    "def testUsername(s):\n",
    "    pattern = '[a-zA-Z]{8}$'\n",
    "    if re.match(pattern,s):\n",
    "        return True\n",
    "    return False\n",
    "print(testUsername('GitamHYD'))\n",
    "print(testUsername('Gitam188'))"
   ]
  },
  {
   "cell_type": "code",
   "execution_count": 14,
   "metadata": {},
   "outputs": [
    {
     "data": {
      "text/plain": [
       "True"
      ]
     },
     "execution_count": 14,
     "metadata": {},
     "output_type": "execute_result"
    }
   ],
   "source": [
    "def phoneNumberValidation(phone):\n",
    "    pattern = '^[6-9][0-9]{9}$|^[0][6-9][0-9]{9}$|^[+][9][1][6-9][0-9]{9}$'\n",
    "    phone = str(phone)\n",
    "    if re.match(pattern,phone):\n",
    "        return True\n",
    "    return False\n",
    "phoneNumberValidation('+919988774455')"
   ]
  },
  {
   "cell_type": "code",
   "execution_count": 16,
   "metadata": {},
   "outputs": [
    {
     "data": {
      "text/plain": [
       "True"
      ]
     },
     "execution_count": 16,
     "metadata": {},
     "output_type": "execute_result"
    }
   ],
   "source": [
    "def emailValidation(email):\n",
    "    pattern = '^[0-9a-z][0-9a-z_.]{5,14}[@][a-z0-9]{3,18}[.][a-z]{2,4}$'\n",
    "    if re.match(pattern,email):\n",
    "        return True\n",
    "    return False\n",
    "emailValidation('anilkumat189@gmail.com')"
   ]
  },
  {
   "cell_type": "markdown",
   "metadata": {},
   "source": [
    "# Python Turtle"
   ]
  },
  {
   "cell_type": "code",
   "execution_count": null,
   "metadata": {},
   "outputs": [],
   "source": [
    "import turtle\n",
    "a1 = turtle.Turtle\n",
    "a1.forward(100)\n",
    "a1.backward(10)\n",
    "turtle.done()"
   ]
  },
  {
   "cell_type": "code",
   "execution_count": null,
   "metadata": {
    "scrolled": true
   },
   "outputs": [],
   "source": [
    "import turtle as tt\n",
    "a1 = tt.Turtle\n",
    "a1.backward(100)\n",
    "tt.done()"
   ]
  },
  {
   "cell_type": "code",
   "execution_count": null,
   "metadata": {},
   "outputs": [],
   "source": [
    "import turtle as tt \n",
    "a1 = tt.Turtle()\n",
    "a1.forward(150)\n",
    "a1.right(90)\n",
    "a1.forward(150)\n",
    "a1.right(90)\n",
    "a1.forward(150)\n",
    "a1.right(90)\n",
    "a1.forward(150)\n",
    "a1.right(90)\n",
    "tt.done()"
   ]
  },
  {
   "cell_type": "code",
   "execution_count": null,
   "metadata": {},
   "outputs": [],
   "source": [
    "import turtle as t\n",
    "aa = t.Turtle()\n",
    "aa.backward(150)\n",
    "aa.left(90)\n",
    "aa.backward(150)\n",
    "aa.left(90)\n",
    "aa.backward(150)\n",
    "aa.left(90)\n",
    "aa.backward(150)\n",
    "aa.left(90)\n",
    "t.done()"
   ]
  },
  {
   "cell_type": "code",
   "execution_count": 9,
   "metadata": {},
   "outputs": [],
   "source": [
    "import turtle as t \n",
    "a2 = turtle.Turtle() \n",
    "  \n",
    "for i in range(4): \n",
    "    a2.forward(50) \n",
    "    a2.right(90) \n",
    "      \n",
    "turtle.done() \n"
   ]
  },
  {
   "cell_type": "code",
   "execution_count": null,
   "metadata": {},
   "outputs": [],
   "source": [
    "import turtle as t\n",
    "a1 = t.Turtle()\n",
    "for i in range(400):\n",
    "    a1.forward(50)\n",
    "    a1.right(144)\n",
    "t.done()"
   ]
  },
  {
   "cell_type": "code",
   "execution_count": 3,
   "metadata": {},
   "outputs": [],
   "source": [
    "import turtle as t\n",
    "a1 = t.Turtle()\n",
    "a1.pencolor('red')\n",
    "for i in range(40):\n",
    "    a1.forward(i*10)\n",
    "    a1.right(144)\n",
    "t.done()"
   ]
  },
  {
   "cell_type": "code",
   "execution_count": null,
   "metadata": {},
   "outputs": [],
   "source": [
    "import turtle as t\n",
    "a1 = t.Turtle()\n",
    "for i in range(250):\n",
    "    a1.forward(i)\n",
    "    a1.left(91)\n",
    "t.done()"
   ]
  },
  {
   "cell_type": "code",
   "execution_count": null,
   "metadata": {},
   "outputs": [],
   "source": [
    "import turtle as t\n",
    "a1 = t.Turtle()\n",
    "a1.pencolor('red')\n",
    "for i in range(250):\n",
    "    a1.forward(i)\n",
    "    a1.left(91)\n",
    "t.done()"
   ]
  },
  {
   "cell_type": "code",
   "execution_count": 3,
   "metadata": {},
   "outputs": [],
   "source": [
    "import turtle \n",
    "colors = ['red', 'purple', 'blue', 'green', 'orange', 'yellow'] \n",
    "t = turtle.Pen() \n",
    "turtle.bgcolor('black') \n",
    "for x in range(360): \n",
    "    t.pencolor(colors[x%6]) \n",
    "    t.width(x/100 + 1) \n",
    "    t.forward(x) \n",
    "    t.left(59) "
   ]
  },
  {
   "cell_type": "code",
   "execution_count": null,
   "metadata": {},
   "outputs": [],
   "source": [
    "from turtle import *\n",
    "colors = ['red', 'purple', 'blue', 'green', 'orange', 'yellow'] \n",
    "for x in range(360):\n",
    "    pencolor(colors[x%6])\n",
    "    width(x/100 + 1) \n",
    "    forward(x) \n",
    "    left(59) "
   ]
  },
  {
   "cell_type": "code",
   "execution_count": 1,
   "metadata": {},
   "outputs": [],
   "source": [
    "from turtle import *\n",
    "goto(50,50)\n",
    "goto(-50,50)\n",
    "goto(100,-50)\n",
    "goto(-50,-50)"
   ]
  },
  {
   "cell_type": "code",
   "execution_count": 3,
   "metadata": {},
   "outputs": [],
   "source": [
    "from turtle import * \n",
    "colors = ['red', 'purple', 'blue', 'green', 'orange', 'yellow'] \n",
    "for angle in range(0,360,15):\n",
    "    pencolor(colors[angle%6])\n",
    "    setheading(angle)\n",
    "    forward(100)\n",
    "    write(str(angle)+ 'o')\n",
    "    backward(100)"
   ]
  },
  {
   "cell_type": "code",
   "execution_count": 3,
   "metadata": {},
   "outputs": [],
   "source": [
    "from turtle import *\n",
    "pencolor('blue')\n",
    "for i in range(15):\n",
    "    forward(100)\n",
    "    left(90)\n",
    "    forward(10)\n",
    "    left(90)\n",
    "    forward(100)\n",
    "    right(90)\n",
    "    forward(10)\n",
    "    right(90)\n",
    "pencolor('red')\n",
    "for i in range(90):\n",
    "    undo()"
   ]
  },
  {
   "cell_type": "code",
   "execution_count": 2,
   "metadata": {},
   "outputs": [],
   "source": [
    "from turtle import * \n",
    "pensize(20)\n",
    "pencolor('red')\n",
    "forward(50)\n",
    "pencolor(0, 1.0, 0)\n",
    "forward(50)\n",
    "pencolor((0, 0.5, 0.5))\n",
    "forward(50)\n",
    "\n",
    "pensize(10)\n",
    "goto(-400, 50)\n",
    "\n",
    "for red in range(4):\n",
    "    for green in range(4):\n",
    "        for blue in range(4):\n",
    "            pencolor(red / 4.0, green / 4.0, blue / 4.0)\n",
    "            forward(10)"
   ]
  },
  {
   "cell_type": "code",
   "execution_count": 1,
   "metadata": {},
   "outputs": [],
   "source": [
    "from turtle import *\n",
    "pensize(40)\n",
    "pencolor(\"black\")\n",
    "forward(250)\n",
    "pen(\"0,1.0,0\")\n",
    "forward(250)\n",
    "pensize(10)\n",
    "goto(-400,50)\n",
    "\n",
    "for red in range(4):\n",
    "   for green in range(4):\n",
    "       for blue in range(4):\n",
    "           pencolor(red/4.0,green/4.0,blue/4.0)\n",
    "           forward(10)"
   ]
  },
  {
   "cell_type": "code",
   "execution_count": 3,
   "metadata": {},
   "outputs": [],
   "source": [
    "from turtle import *\n",
    "\n",
    "fillcolor('purple')\n",
    "pensize(10)\n",
    "pencolor('black')\n",
    "\n",
    "begin_fill()\n",
    "forward(100)\n",
    "left(90)\n",
    "forward(100)\n",
    "left(90)\n",
    "forward(100)\n",
    "left(90)\n",
    "forward(100)\n",
    "left(90)\n",
    "end_fill()"
   ]
  },
  {
   "cell_type": "code",
   "execution_count": 1,
   "metadata": {},
   "outputs": [],
   "source": [
    "from turtle import *\n",
    "\n",
    "fillcolor('purple')\n",
    "pensize(10)\n",
    "pencolor('black')\n",
    "\n",
    "begin_fill()\n",
    "circle(100)\n",
    "end_fill()"
   ]
  }
 ],
 "metadata": {
  "kernelspec": {
   "display_name": "Python 3",
   "language": "python",
   "name": "python3"
  },
  "language_info": {
   "codemirror_mode": {
    "name": "ipython",
    "version": 3
   },
   "file_extension": ".py",
   "mimetype": "text/x-python",
   "name": "python",
   "nbconvert_exporter": "python",
   "pygments_lexer": "ipython3",
   "version": "3.7.3"
  }
 },
 "nbformat": 4,
 "nbformat_minor": 2
}
